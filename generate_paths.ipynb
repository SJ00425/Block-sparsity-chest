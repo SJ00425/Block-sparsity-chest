{
 "cells": [
  {
   "cell_type": "code",
   "execution_count": 1,
   "id": "cbb24033",
   "metadata": {},
   "outputs": [
    {
     "name": "stderr",
     "output_type": "stream",
     "text": [
      "jitc_llvm_init(): LLVM API initialization failed ..\n",
      "2025-10-08 14:41:28.928723: I tensorflow/core/util/port.cc:113] oneDNN custom operations are on. You may see slightly different numerical results due to floating-point round-off errors from different computation orders. To turn them off, set the environment variable `TF_ENABLE_ONEDNN_OPTS=0`.\n",
      "2025-10-08 14:41:28.947608: E external/local_xla/xla/stream_executor/cuda/cuda_dnn.cc:9261] Unable to register cuDNN factory: Attempting to register factory for plugin cuDNN when one has already been registered\n",
      "2025-10-08 14:41:28.947624: E external/local_xla/xla/stream_executor/cuda/cuda_fft.cc:607] Unable to register cuFFT factory: Attempting to register factory for plugin cuFFT when one has already been registered\n",
      "2025-10-08 14:41:28.948246: E external/local_xla/xla/stream_executor/cuda/cuda_blas.cc:1515] Unable to register cuBLAS factory: Attempting to register factory for plugin cuBLAS when one has already been registered\n",
      "2025-10-08 14:41:28.951615: I tensorflow/core/platform/cpu_feature_guard.cc:182] This TensorFlow binary is optimized to use available CPU instructions in performance-critical operations.\n",
      "To enable the following instructions: AVX2 AVX_VNNI FMA, in other operations, rebuild TensorFlow with the appropriate compiler flags.\n",
      "2025-10-08 14:41:29.297539: W tensorflow/compiler/tf2tensorrt/utils/py_utils.cc:38] TF-TRT Warning: Could not find TensorRT\n"
     ]
    }
   ],
   "source": [
    "# Import or install Sionna\n",
    "try:\n",
    "    import sionna.rt\n",
    "except ImportError as e:\n",
    "    import os\n",
    "    os.system(\"pip install sionna-rt\")\n",
    "    import sionna.rt\n",
    "\n",
    "# Other imports\n",
    "%matplotlib inline\n",
    "import matplotlib.pyplot as plt\n",
    "import numpy as np\n",
    "\n",
    "no_preview = True # Toggle to False to use the preview widget\n",
    "\n",
    "# Import relevant components from Sionna RT\n",
    "from sionna.rt import load_scene, PlanarArray, Transmitter, Receiver, Camera,\\\n",
    "                      PathSolver, RadioMapSolver, subcarrier_frequencies\n",
    "                      \n",
    "from sionnautils.miutils import CoverageMapPlanner, replace_material, assign_material\n",
    "from matplotlib.colors import ListedColormap\n",
    "from sionna.phy.channel import subcarrier_frequencies, cir_to_ofdm_channel, cir_to_time_channel, \\\n",
    "                               time_lag_discrete_time_channel, ApplyOFDMChannel, ApplyTimeChannel, \\\n",
    "                               OFDMChannel, TimeChannel\n",
    "\n",
    "\n",
    "from sionna.phy.ofdm import ResourceGrid, ResourceGridMapper, LSChannelEstimator, LMMSEEqualizer, PilotPattern,\\\n",
    "                            OFDMModulator, OFDMDemodulator, RZFPrecoder, RemoveNulledSubcarriers"
   ]
  },
  {
   "cell_type": "code",
   "execution_count": 2,
   "id": "8024ccad",
   "metadata": {},
   "outputs": [
    {
     "name": "stdout",
     "output_type": "stream",
     "text": [
      "floor          concrete\n",
      "building_2     brick\n",
      "no-name-1      marble\n",
      "building_6     wood\n",
      "no-name-2      glass\n"
     ]
    }
   ],
   "source": [
    "scene = load_scene(sionna.rt.scene.simple_street_canyon, merge_shapes=True)\n",
    "for name, obj in scene.objects.items():\n",
    "    print(f'{name:<15}{obj.radio_material.name}')"
   ]
  },
  {
   "cell_type": "code",
   "execution_count": 3,
   "id": "ea55ec43",
   "metadata": {},
   "outputs": [
    {
     "data": {
      "text/plain": [
       "<matplotlib.image.AxesImage at 0x7bbbf2127190>"
      ]
     },
     "execution_count": 3,
     "metadata": {},
     "output_type": "execute_result"
    },
    {
     "data": {
      "image/png": "[encoded data removed]",
      "text/plain": [
       "<Figure size 640x480 with 1 Axes>"
      ]
     },
     "metadata": {},
     "output_type": "display_data"
    }
   ],
   "source": [
    "grid_size = 1.0\n",
    "cm = CoverageMapPlanner(scene._scene, grid_size=grid_size)\n",
    "cm.set_grid()\n",
    "cm.compute_grid_attributes()\n",
    "x_min, x_max = cm.x[0], cm.x[-1]\n",
    "y_min, y_max = cm.y[0], cm.y[-1]\n",
    "W_WE = x_max - x_min   # width (East-West)\n",
    "L_NS = y_max - y_min   # length (North-South)\n",
    "bbox = [-W_WE/2, W_WE/2, -L_NS/2, L_NS/2]\n",
    "extent = [cm.x[0], cm.x[-1], cm.y[0], cm.y[-1]]\n",
    "colors = ['lightgray', 'brown']\n",
    "cmap = ListedColormap(colors)\n",
    "# building = (cm.bldg_grid) & cm.in_region\n",
    "outdoor = (cm.bldg_grid==False) \n",
    "building = (cm.bldg_grid) \n",
    "point_type = outdoor + 2*building\n",
    "point_type = point_type.astype(int)\n",
    "point_type = np.flipud(point_type)\n",
    "plt.imshow(point_type, cmap=cmap, interpolation='nearest', extent=extent)"
   ]
  },
  {
   "cell_type": "code",
   "execution_count": 4,
   "id": "63df0554",
   "metadata": {},
   "outputs": [
    {
     "name": "stdout",
     "output_type": "stream",
     "text": [
      "Replacement complete: glass -> metal, updated 1 objects\n"
     ]
    },
    {
     "data": {
      "text/plain": [
       "1"
      ]
     },
     "execution_count": 4,
     "metadata": {},
     "output_type": "execute_result"
    }
   ],
   "source": [
    "replace_material(scene, old_name=\"glass\", new_name=\"metal\")"
   ]
  },
  {
   "cell_type": "code",
   "execution_count": 5,
   "id": "3aec4581",
   "metadata": {},
   "outputs": [],
   "source": [
    "bs_rows = 8\n",
    "bs_cols = 8\n",
    "ue_rows = 1\n",
    "ue_cols = 1\n",
    "frequency = 10e9"
   ]
  },
  {
   "cell_type": "code",
   "execution_count": 6,
   "id": "2d888b74",
   "metadata": {},
   "outputs": [],
   "source": [
    "\n",
    "bs_array = PlanarArray(\n",
    "            num_rows = bs_rows,\n",
    "            num_cols = bs_cols,\n",
    "            vertical_spacing=0.5,\n",
    "            horizontal_spacing=0.5,\n",
    "            polarization=\"V\",\n",
    "            pattern=\"tr38901\"\n",
    "        )\n",
    "\n",
    "\n",
    "ue_array = PlanarArray(\n",
    "                num_rows = ue_rows,\n",
    "                num_cols = ue_cols,\n",
    "                vertical_spacing=0.5,\n",
    "                horizontal_spacing=0.5,\n",
    "                polarization=\"cross\",\n",
    "                # pattern=\"tr38901\"\n",
    "                pattern=\"dipole\"\n",
    "            )\n",
    "\n",
    "scene.tx_array = ue_array\n",
    "scene.rx_array = bs_array\n",
    "\n",
    "\n",
    "for tx_name in scene.transmitters:\n",
    "    scene.remove(tx_name)\n",
    "for rx_name in scene.receivers:\n",
    "    scene.remove(rx_name) \n",
    "tx =Transmitter(\n",
    "                name=\"BS\",\n",
    "                position=[55,8,20],\n",
    "                power_dbm=30,\n",
    "                # orientation=[yaw, 0, -0.1745329252] # headdown 10 degree -0.0873\n",
    "                # orientation=[0, 0,  -0.0873],\n",
    "                display_radius=2\n",
    "                )\n",
    "scene.add(tx)\n",
    "\n",
    "\n",
    "rx = Receiver(name=\"ue\",\n",
    "              position=[-50,-7,2],\n",
    "              display_radius=2)\n",
    "\n",
    "# Add receiver instance to scene\n",
    "scene.add(rx)\n",
    "rx.look_at(tx)\n",
    "tx.look_at(rx)"
   ]
  },
  {
   "cell_type": "code",
   "execution_count": 7,
   "id": "4e6681b7",
   "metadata": {},
   "outputs": [],
   "source": [
    "scene.synthetic_array = True\n",
    "scene.frequency = frequency\n",
    "p_solver  = PathSolver()\n",
    "\n",
    "# Compute propagation paths\n",
    "paths = p_solver(scene=scene,\n",
    "                 max_depth=5,\n",
    "                 los=True,\n",
    "                 specular_reflection=True,\n",
    "                 diffuse_reflection=True,\n",
    "                 refraction=True,\n",
    "                 synthetic_array=True,\n",
    "                 seed=41)"
   ]
  },
  {
   "cell_type": "code",
   "execution_count": 8,
   "id": "32cf78ef",
   "metadata": {},
   "outputs": [
    {
     "data": {
      "application/vnd.jupyter.widget-view+json": {
       "model_id": "398a9921ec594cab847e4f709300def3",
       "version_major": 2,
       "version_minor": 0
      },
      "text/plain": [
       "HBox(children=(Renderer(camera=PerspectiveCamera(aspect=1.31, children=(DirectionalLight(intensity=0.25, posit…"
      ]
     },
     "metadata": {},
     "output_type": "display_data"
    }
   ],
   "source": [
    "scene.preview(paths=paths);"
   ]
  },
  {
   "cell_type": "code",
   "execution_count": 9,
   "id": "71af27ce",
   "metadata": {},
   "outputs": [
    {
     "data": {
      "text/plain": [
       "(1, 64, 1, 2, 13, 1)"
      ]
     },
     "execution_count": 9,
     "metadata": {},
     "output_type": "execute_result"
    }
   ],
   "source": [
    "a, tau = paths.cir(normalize_delays=False, out_type=\"numpy\")\n",
    "a.shape"
   ]
  },
  {
   "cell_type": "code",
   "execution_count": 10,
   "id": "2436df77",
   "metadata": {},
   "outputs": [],
   "source": [
    "np.savez(\"cir_data.npz\", a=a, tau=tau)\n",
    "from scipy.io import savemat\n",
    "savemat(\"cir_data.mat\", {\"a\": a, \"tau\": tau})"
   ]
  },
  {
   "cell_type": "code",
   "execution_count": 12,
   "id": "d371dd27",
   "metadata": {},
   "outputs": [
    {
     "data": {
      "image/png": "[encoded data removed]",
      "text/plain": [
       "<Figure size 640x480 with 2 Axes>"
      ]
     },
     "metadata": {},
     "output_type": "display_data"
    }
   ],
   "source": [
    "num_ofdm_symbols = 14\n",
    "fft_size = 12*4 # 70 PRBs\n",
    "scs = 120e3 # Hz\n",
    "CARRIER_FREQUENCY = 10e9 # Hz\n",
    "SPEED = 0 # m/s\n",
    "Fs = fft_size * scs\n",
    "num_tx = 1\n",
    "num_streams_per_tx = 1\n",
    "num_guard_carriers = [8, 8] \n",
    "cp_len  = 2\n",
    "\n",
    "rg = ResourceGrid(num_ofdm_symbols=num_ofdm_symbols,\n",
    "                  fft_size=fft_size,\n",
    "                  subcarrier_spacing=scs,\n",
    "                  num_tx=num_tx,\n",
    "                  num_streams_per_tx=num_streams_per_tx,\n",
    "                  cyclic_prefix_length=cp_len,\n",
    "                  num_guard_carriers= num_guard_carriers,\n",
    "                  dc_null=True,\n",
    "                  pilot_pattern=\"kronecker\",\n",
    "                  pilot_ofdm_symbol_indices=[2,11])\n",
    "rg.show();"
   ]
  },
  {
   "cell_type": "code",
   "execution_count": 13,
   "id": "1189cf17",
   "metadata": {},
   "outputs": [
    {
     "data": {
      "image/png": "[encoded data removed]",
      "text/plain": [
       "<Figure size 640x480 with 2 Axes>"
      ]
     },
     "metadata": {},
     "output_type": "display_data"
    }
   ],
   "source": [
    "rg.pilot_pattern.show();"
   ]
  },
  {
   "cell_type": "code",
   "execution_count": null,
   "id": "1960f74d",
   "metadata": {},
   "outputs": [],
   "source": [
    "\n",
    "# # ---------------------------\n",
    "# # Parameters\n",
    "# # ---------------------------\n",
    "# num_ofdm_symbols   = 14\n",
    "# fft_size           = 12*70               # 4 PRBs × 12 subcarriers = 48\n",
    "# subcarrier_spacing = 120e3               # 30 kHz\n",
    "# num_tx             = 1                  # one transmitter\n",
    "# num_streams_per_tx = 1                  # one stream per transmitter\n",
    "# guard              = [3,3]              # 3 guard carriers on each side\n",
    "# dcnull             = True               # remove the DC carrier\n",
    "# pilot_syms_idx     = [2, 11]            # pilot OFDM symbol indices\n",
    "# comb_step          = 2                  # comb spacing = every 2nd subcarrier\n",
    "\n",
    "# # ---------------------------\n",
    "# # Step 1: Create a base ResourceGrid\n",
    "# # (only to query the number of effective subcarriers, i.e., excluding guards/DC)\n",
    "# # ---------------------------\n",
    "# rg_base = ResourceGrid(num_ofdm_symbols=num_ofdm_symbols,\n",
    "#                        fft_size=fft_size,\n",
    "#                        subcarrier_spacing=subcarrier_spacing,\n",
    "#                        num_tx=num_tx,\n",
    "#                        num_streams_per_tx=num_streams_per_tx,\n",
    "#                        cyclic_prefix_length=6,\n",
    "#                        num_guard_carriers=guard,\n",
    "#                        dc_null=dcnull,\n",
    "#                        pilot_pattern=\"kronecker\",             # placeholder\n",
    "#                        pilot_ofdm_symbol_indices=pilot_syms_idx)\n",
    "\n",
    "# NES = rg_base.num_effective_subcarriers   # number of effective subcarriers\n",
    "\n",
    "# # ---------------------------\n",
    "# # Step 2: Build a custom pilot mask\n",
    "# # Shape: [num_tx, num_streams, num_ofdm_symbols, num_effective_subcarriers]\n",
    "# # ---------------------------\n",
    "# mask = np.zeros((num_tx, num_streams_per_tx, num_ofdm_symbols, NES), dtype=bool)\n",
    "\n",
    "# for t in range(num_tx):\n",
    "#     for s in range(num_streams_per_tx):\n",
    "#         # Offset can be used if you have multiple streams (frequency-domain shift).\n",
    "#         offset = s % comb_step\n",
    "#         # Select subcarrier indices with comb spacing\n",
    "#         cols = np.arange(offset, NES, comb_step)\n",
    "#         # Mark chosen subcarriers as pilots for the selected OFDM symbols\n",
    "#         for l in pilot_syms_idx:\n",
    "#             mask[t, s, l, cols] = True\n",
    "\n",
    "# # ---------------------------\n",
    "# # Step 3: Define pilot symbols\n",
    "# # The number of pilots is the number of True entries per stream\n",
    "# # PilotPattern will map symbols in ascending (time, frequency) order\n",
    "# # ---------------------------\n",
    "# num_pilots_per_stream = int(mask[0,0].sum())\n",
    "# pilots = np.zeros((num_tx, num_streams_per_tx, num_pilots_per_stream), np.complex64)\n",
    "# pilots[:] = 1.0 + 0.0j    # assign all pilots to constant symbol (1+0j)\n",
    "\n",
    "# # ---------------------------\n",
    "# # Step 4: Create PilotPattern and ResourceGrid with the custom pilots\n",
    "# # ---------------------------\n",
    "# pp = PilotPattern(mask, pilots)\n",
    "\n",
    "# rg = ResourceGrid(num_ofdm_symbols=num_ofdm_symbols,\n",
    "#                   fft_size=fft_size,\n",
    "#                   subcarrier_spacing=subcarrier_spacing,\n",
    "#                   num_tx=num_tx,\n",
    "#                   num_streams_per_tx=num_streams_per_tx,\n",
    "#                   cyclic_prefix_length=6,\n",
    "#                   num_guard_carriers=guard,\n",
    "#                   dc_null=dcnull,\n",
    "#                   pilot_pattern=pp)\n",
    "\n",
    "# # ---------------------------\n",
    "# # Step 5: Visualization\n",
    "# # ---------------------------\n",
    "# rg.pilot_pattern.show()   # visualize pilot pattern only\n",
    "# # rg.show()               # visualize the full resource grid (data + pilots + guards + DC)\n"
   ]
  },
  {
   "cell_type": "code",
   "execution_count": null,
   "id": "056011d5",
   "metadata": {},
   "outputs": [],
   "source": [
    "\n",
    "def ensure_batch_dim(a, tau):\n",
    "    \n",
    "    if a.ndim == 6:  # [R,Ra,T,Ta,L,Nt] → add batch\n",
    "        a = a[np.newaxis, ...]\n",
    "    elif a.ndim != 7:\n",
    "        raise ValueError(f\"Unexpected a.ndim={a.ndim}, expect 6 or 7\")\n",
    "    \n",
    "    if tau.ndim in (3, 5):  # [R,T,L] or [R,Ra,T,Ta,L] → add batch\n",
    "        tau = tau[np.newaxis, ...]\n",
    "    elif tau.ndim not in (4, 6):  # [B,R,T,L] or [B,R,Ra,T,Ta,L]\n",
    "        raise ValueError(f\"Unexpected tau.ndim={tau.ndim}, expect 3/4/5/6\")\n",
    "    \n",
    "    return a, tau"
   ]
  },
  {
   "cell_type": "code",
   "execution_count": null,
   "id": "1842bed2",
   "metadata": {},
   "outputs": [],
   "source": [
    "a, tau = ensure_batch_dim(a, tau)\n",
    "frequencies = subcarrier_frequencies(rg.fft_size, rg.subcarrier_spacing)\n",
    "h_freq = cir_to_ofdm_channel(frequencies, a, tau, normalize=False)\n",
    "h_freq.shape"
   ]
  },
  {
   "cell_type": "code",
   "execution_count": null,
   "id": "83ac22af",
   "metadata": {},
   "outputs": [],
   "source": [
    "EkT_dBm_per_Hz = -174     # dBm/Hz\n",
    "NF_dB = 2\n",
    "N0_dBm = EkT_dBm_per_Hz + 10*np.log10(scs) + NF_dB\n",
    "N0_bs = 10**((N0_dBm - 30)/10)   # in Watts"
   ]
  },
  {
   "cell_type": "code",
   "execution_count": null,
   "id": "d8b407f8",
   "metadata": {},
   "outputs": [],
   "source": [
    "apply_channel = ApplyOFDMChannel()\n",
    "y = apply_channel([x, h_freq, N0_bs])"
   ]
  }
 ],
 "metadata": {
  "kernelspec": {
   "display_name": "sionna_gpu",
   "language": "python",
   "name": "python3"
  },
  "language_info": {
   "codemirror_mode": {
    "name": "ipython",
    "version": 3
   },
   "file_extension": ".py",
   "mimetype": "text/x-python",
   "name": "python",
   "nbconvert_exporter": "python",
   "pygments_lexer": "ipython3",
   "version": "3.11.11"
  }
 },
 "nbformat": 4,
 "nbformat_minor": 5
}
